{
 "cells": [
  {
   "cell_type": "code",
   "execution_count": 1,
   "id": "26a3cd90-7f88-4e9b-b043-fda5f8b66510",
   "metadata": {},
   "outputs": [],
   "source": [
    "# packages\n",
    "import os\n",
    "import sys\n",
    "import numpy as np\n",
    "from datetime import datetime\n",
    "from dask.distributed import Client"
   ]
  },
  {
   "cell_type": "code",
   "execution_count": 2,
   "id": "31d6d8e8-80b1-4cc9-a3bd-f03b468a0146",
   "metadata": {},
   "outputs": [],
   "source": [
    "CASE_NAME='TCs_198001_test'\n",
    "user='mb0427' # Username on GADI - if you are storing on /scratch/nf33/user\n",
    "N_CORES=1 # Cores for your job to use"
   ]
  },
  {
   "cell_type": "code",
   "execution_count": 3,
   "id": "94c398c6-3eda-488d-9798-9b6bf099d7a0",
   "metadata": {},
   "outputs": [],
   "source": [
    "# directory for TempestExtremes\n",
    "os.environ['TEMPESTEXTREMESDIR']='/scratch/nf33/tempestextremes/bin'\n",
    "\n",
    "# link to self-written packages\n",
    "sys.path.append(f\"/scratch/nf33/{user}/hk25-AusCyclones\") # change to your directory\n",
    "from utils.tools import create_Node_dirstruct, write_to_filelist, clear_dir, generate_datetimes_months\n",
    "from utils.nci_utils import get_GADI_ERA5_filename\n",
    "from tempestextremes_utils.node_utils import run_detectNodes, run_stitchNodes"
   ]
  },
  {
   "cell_type": "markdown",
   "id": "93b25883-3b4e-4b40-a8c7-89803636ea51",
   "metadata": {},
   "source": [
    "  "
   ]
  },
  {
   "cell_type": "markdown",
   "id": "8a262676-d3f5-4824-82b6-7f9dc98d86e0",
   "metadata": {},
   "source": [
    "TempestExtremes allows parallel running with `mpi`"
   ]
  },
  {
   "cell_type": "code",
   "execution_count": 4,
   "id": "28972438-b2ab-474d-b9e3-65966bd41916",
   "metadata": {},
   "outputs": [
    {
     "name": "stderr",
     "output_type": "stream",
     "text": [
      "2025-05-12 21:52:34,842 - distributed.diskutils - INFO - Found stale lock file and directory '/jobfs/140849792.gadi-pbs/dask-worker-space/worker-t6o2369l', purging\n"
     ]
    }
   ],
   "source": [
    "# set dask workers\n",
    "client = Client(n_workers=N_CORES)"
   ]
  },
  {
   "cell_type": "markdown",
   "id": "b7ce7cb6-7c10-45d5-8680-129fbd8b8cb8",
   "metadata": {},
   "source": [
    "  "
   ]
  },
  {
   "cell_type": "code",
   "execution_count": 5,
   "id": "cc8927d7-256d-44e5-a91c-924e37807d90",
   "metadata": {},
   "outputs": [
    {
     "name": "stdout",
     "output_type": "stream",
     "text": [
      "Directory '/scratch/nf33/mb0427/hk25-AusCyclones/TCs_198001_test' created successfully.\n",
      "Directory '/scratch/nf33/mb0427/hk25-AusCyclones/TCs_198001_test/input' created successfully.\n",
      "Directory '/scratch/nf33/mb0427/hk25-AusCyclones/TCs_198001_test/detectNodes' created successfully.\n",
      "Directory '/scratch/nf33/mb0427/hk25-AusCyclones/TCs_198001_test/stitchNodes' created successfully.\n"
     ]
    }
   ],
   "source": [
    "# base directory (change to your directory)\n",
    "base_dir = f\"/scratch/nf33/{user}/hk25-AusCyclones/\"\n",
    "case_dir, input_dir, detect_dir, stitch_dir = create_Node_dirstruct(base_dir,CASE_NAME)"
   ]
  },
  {
   "cell_type": "markdown",
   "id": "22b63b96-5c07-4551-a8cb-af0b9e412984",
   "metadata": {},
   "source": [
    "#### CAREFUL!!!!! The below commands will clear out all your results directories! Proceed with caution!! #####"
   ]
  },
  {
   "cell_type": "code",
   "execution_count": 6,
   "id": "d233bb55",
   "metadata": {},
   "outputs": [],
   "source": [
    "### be very careful with this - it will delete everything in the directory!!!\n",
    "clear_dir(input_dir)\n",
    "clear_dir(detect_dir)\n",
    "clear_dir(stitch_dir)"
   ]
  },
  {
   "cell_type": "markdown",
   "id": "0f777d8e-ddf6-4da4-b996-5a884afaf643",
   "metadata": {},
   "source": [
    "    "
   ]
  },
  {
   "cell_type": "markdown",
   "id": "f5442c89-e14d-4c56-a404-080646593e98",
   "metadata": {},
   "source": [
    "**Required variables for TC detection**  \n",
    "\n",
    "| Variable Name                 | Level (hPa)                       |\n",
    "|-------------------------------|-----------------------------------|\n",
    "| Elevation (zs)                | Surface                           |\n",
    "| 10-m U-component Wind (u10)   | Surface                           |\n",
    "| 10-m V-component Wind (v10)   | Surface                           |\n",
    "| Mean Sea Level Pressure (msl) | Surface                           |\n",
    "| Geopotential (z)              | 500, 300                          |"
   ]
  },
  {
   "cell_type": "markdown",
   "id": "34f93503-1007-4396-ae98-fb27a782470a",
   "metadata": {},
   "source": [
    "**Create lists for inputfile and outputfile**"
   ]
  },
  {
   "cell_type": "markdown",
   "id": "d0ae6d9b-e394-40c3-97b8-103083990119",
   "metadata": {},
   "source": [
    "Inputfile consist of several files containing geopotential height (z) on pressure surfaces, mean sea level pressure (msl), 10-m zonal and meridional wind speeds (u10 and v10), and surface elevation (zs), separated by semicolons. Note that surface elevation data can found at `~/data/zs_era5_oper_sfc_invariant.nc`."
   ]
  },
  {
   "cell_type": "code",
   "execution_count": 7,
   "id": "e54d11ab-cc76-4f27-ab0d-1cbd61582d54",
   "metadata": {},
   "outputs": [],
   "source": [
    "date_sta = datetime(1980,1,1)\n",
    "date_end = datetime(1980,1,1)\n",
    "\n",
    "infilenames_list = []\n",
    "outfilenames_list = []\n",
    "\n",
    "datetimes=generate_datetimes_months(date_sta,date_end,interval=1)\n",
    "for dt in datetimes:\n",
    "    date_YM=dt.strftime('%Y%m')\n",
    "    # zs\n",
    "    zsfile = f\"/scratch/nf33/{user}/hk25-AusCyclones/data/zs_era5_oper_sfc_invariant.nc\"\n",
    "    # u10\n",
    "    u10file = get_GADI_ERA5_filename('10u',dt,stream='hourly',level_type='single-levels')\n",
    "    # v10\n",
    "    v10file = get_GADI_ERA5_filename('10v',dt,stream='hourly',level_type='single-levels')\n",
    "    # msl\n",
    "    mslfile = get_GADI_ERA5_filename('msl',dt,stream='hourly',level_type='single-levels')\n",
    "    # z\n",
    "    zfile = get_GADI_ERA5_filename('z',dt,stream='hourly',level_type='pressure-levels')\n",
    "\n",
    "\n",
    "    infilenames_list.append(f\"{zfile};{zsfile};{mslfile};{u10file};{v10file}\")\n",
    "    outfilenames_list.append(f\"{detect_dir}/detectNodes_{date_YM}.txt\")\n",
    "        \n",
    "input_filelist=f\"{input_dir}/input_files.txt\"\n",
    "write_to_filelist(infilenames_list,input_filelist)\n",
    "detect_filelist=f\"{detect_dir}/detect_files.txt\"\n",
    "write_to_filelist(outfilenames_list,detect_filelist)\n",
    "stitch_file=f\"{stitch_dir}/stitchNodes.csv\""
   ]
  },
  {
   "cell_type": "markdown",
   "id": "504f611e-5d98-4a24-9715-bfcdf9808957",
   "metadata": {},
   "source": [
    "  "
   ]
  },
  {
   "cell_type": "markdown",
   "id": "71cc467d-9d20-4a6d-8131-17a58e71fefc",
   "metadata": {},
   "source": [
    "**Run TempestExtremes DetectNode**"
   ]
  },
  {
   "cell_type": "code",
   "execution_count": 5,
   "id": "55aa906f-1fcd-41a0-8e6f-29462398d217",
   "metadata": {},
   "outputs": [
    {
     "name": "stdout",
     "output_type": "stream",
     "text": [
      " Detect and track minimum based on TempestExtremes\n",
      "    TC detection is based on warm-core criterion from Zarzycki and Ullrich (2017)\n",
      "    https://agupubs.onlinelibrary.wiley.com/doi/10.1002/2016GL071606\n",
      "    \n",
      "    Parameters\n",
      "    ----------\n",
      "   \n",
      "    input_filelist : dtype str\n",
      "        String with a path to the textfile containing the input data required.\n",
      "    detect_filelist : dtype str\n",
      "        String with a path to the textfile containing the names of the detectNode output.\n",
      "    detect_var : dtype str\n",
      "        String with the variable to detect (must match ib the input netcdf file).\n",
      "    bounds : list (N=4), default=None.\n",
      "        a list containing the bounds of a bounding box to do detection in the form [minlon,maxlon,minlat,maxlat]\n",
      "    closedcontour_commands : dtype str\n",
      "        String with the closed contour commands. Should be of the form <var,op,threshold,dist> with commands separated by a \";\"\n",
      "    output_commands : dtype str\n",
      "        String with the output commands. Should be of the form <var,op,dist> with commands separated by a \";\"\n",
      "    timeinterval : dtype str\n",
      "        String with the time interval (e.g. \"6hr\")\n",
      "    lonname : dtype str\n",
      "        String with the longitude variable name, as in the input netcdfs\n",
      "    latname : dtype str\n",
      "        String with the latitude variable name, as in the input netcdfs\n",
      "    logdir : dtype str\n",
      "        String with the path for logfile output.\n",
      "    regional : bool\n",
      "        *Optional*, default ``False``. If ``True``, tells TE that it is expecting a regional grid without periodic boundaries\n",
      "    quiet : bool\n",
      "        *Optional*, default ``False``. If ``True``, progress information is suppressed.\n",
      "    out_command_only : bool\n",
      "        *Optional*, default ``False``. If ``True``, will not run the TE command but instead with output the command for terminal use.\n",
      "    \n"
     ]
    }
   ],
   "source": [
    "print(run_detectNodes.__doc__)"
   ]
  },
  {
   "cell_type": "markdown",
   "id": "70a296ac-37d7-4785-bc51-1289714f852c",
   "metadata": {},
   "source": [
    "DetectNode detects nodes  \n",
    "\n",
    "\n",
    "Thresholds (`closedcontour_commands`) are applied: \n",
    "\n",
    "(a) `msl,200.0,5.5,0` represents that mean sea level pressure must increase by 200 Pa over a 5.5 great circle distance (GCD) from the detected node;  \n",
    "\n",
    "\n",
    "(b) `_DIFF(z(300millibars),z(500millibars)),-58.8,6.5,1.0` represents that the difference between geopotential (Z) on the 300 and 500 millibars surfaces must decrease by 58.8 m2 s−2 over a 6.5 GCD, using the maximum value of this field within 1 GCD as reference. This ensures a coherent upper-level warm core attached to the detected surface low\n",
    "\n",
    "\n",
    "More details can be found in [Ullrich et al., 2021](https://gmd.copernicus.org/articles/14/5023/2021/)"
   ]
  },
  {
   "cell_type": "code",
   "execution_count": 8,
   "id": "484b5977",
   "metadata": {},
   "outputs": [
    {
     "name": "stdout",
     "output_type": "stream",
     "text": [
      "mpirun -np 1 /scratch/nf33/tempestextremes/bin/DetectNodes --in_data_list /scratch/nf33/mb0427/hk25-AusCyclones/TCs_198001_test/input/input_files.txt --out_file_list /scratch/nf33/mb0427/hk25-AusCyclones/TCs_198001_test/detectNodes/detect_files.txt --searchbymin msl --closedcontourcmd \"msl,200.0,5.5,0;_DIFF(z(300millibars),z(500millibars)),-58.8,6.5,1.0\" --mergedist 6.0 --outputcmd \"msl,min,0;_VECMAG(u10,v10),max,2.0;zs,min,0\" --timefilter \"6hr\" --latname latitude --lonname longitude --logdir /scratch/nf33/mb0427/hk25-AusCyclones/TCs_198001_test/\n"
     ]
    }
   ],
   "source": [
    "run_detectNodes(f\"{input_dir}/input_files.txt\", #input filelist\n",
    "                f\"{detect_dir}/detect_files.txt\", #output filelist \n",
    "                N_CORES, # cores used for mpi parallel running\n",
    "                detect_var=\"msl\", # variable used to detect nodes\n",
    "                merge_dist=6.0,   # merge distance of detected nodes are close to each other of 6.0 great circle distance (GCD)\n",
    "                closedcontour_commands=\"msl,200.0,5.5,0;_DIFF(z(300millibars),z(500millibars)),-58.8,6.5,1.0\",\n",
    "                output_commands=\"msl,min,0;_VECMAG(u10,v10),max,2.0;zs,min,0\",\n",
    "                timeinterval=\"6hr\",\n",
    "                lonname=\"longitude\",latname=\"latitude\", \n",
    "                logdir=f\"{case_dir}/\",\n",
    "                quiet=True,\n",
    "                out_command_only=True, #Set to true to produce the command line function without running it here\n",
    "                )"
   ]
  },
  {
   "cell_type": "markdown",
   "id": "6952f25d-f693-47d1-8c73-49d825f10c77",
   "metadata": {},
   "source": [
    "We can monitor the algrithm progress through log files under `log_dir`; 40-year TC detection took around 1.5 hrs with 108 nodes."
   ]
  },
  {
   "cell_type": "markdown",
   "id": "ee6ed27e-b1af-4285-8c5e-8a250f415da2",
   "metadata": {},
   "source": [
    "  "
   ]
  },
  {
   "cell_type": "markdown",
   "id": "bb016003-1ee1-4ef5-aa52-bfa7fe39a5d1",
   "metadata": {},
   "source": [
    "**Run TempestExtremes StitchNode**"
   ]
  },
  {
   "cell_type": "markdown",
   "id": "f48ad3a1-d997-48ef-81ee-1a6b44617fcb",
   "metadata": {},
   "source": [
    "StitchNode connects detected nodes in time.  \n",
    "\n",
    "\n",
    "Thresholds (`threshold_condition`) are applied:  \n",
    "\n",
    "(a) `wind,>=,10.0,10` represents that the wind magnitude must be greater than 10 m/s for at least 10 timesteps;  \n",
    "\n",
    "(b) `lat,<=,50.0,10;lat,>=,-50.0,10` represents that the latitude for detected nodes must be within 50S and 50N for at least 10 timesteps;  \n",
    "\n",
    "(c) `zs,<,150,10` represents that the detected Node must exit below 150 m for at least 10 timesteps  \n",
    "\n",
    "\n",
    "More details can be found in [Ullrich et al., 2021](https://gmd.copernicus.org/articles/14/5023/2021/)"
   ]
  },
  {
   "cell_type": "code",
   "execution_count": 9,
   "id": "4d8c84f3-e1fb-4b21-90f5-04b8e948ac2f",
   "metadata": {},
   "outputs": [
    {
     "name": "stdout",
     "output_type": "stream",
     "text": [
      "mpirun -np 1 /scratch/nf33/tempestextremes/bin/StitchNodes --in_list /scratch/nf33/mb0427/hk25-AusCyclones/TCs_198001_test/detectNodes/detect_files.txt --in_fmt \"lon,lat,msl,wind,zs\" --range 8.0 --mintime 54h --maxgap 24h --threshold \"wind,>=,10.0,10;lat,<=,50.0,10;lat,>=,-50.0,10;zs,<,150,10\" --min_endpoint_dist 0.0 --out_file_format csv --out /scratch/nf33/mb0427/hk25-AusCyclones/TCs_198001_test/stitchNodes/stitchNodes.csv\n"
     ]
    }
   ],
   "source": [
    "# Run TempestExtremes StitchNode\n",
    "run_stitchNodes(f\"{detect_dir}/detect_files.txt\", # inputfile list (detectNodes output)\n",
    "                stitch_file, # output file\n",
    "                N_CORES, # cores used for mpi parallel running StitchNode run very fast with only one core\n",
    "                output_filefmt=\"csv\", # output format\n",
    "                in_fmt_commands=\"lon,lat,msl,wind,zs\", # input format of the detectnode ouput\n",
    "                range_dist=8.0, # the maximum distance (in GCD) that a node can move between two timesteps\n",
    "                minim_time=\"54h\", # the minimum lifetime of each track\n",
    "                maxgap_time=\"24h\", # the maximum duration between two timesteps\n",
    "                min_endpoint_dist=0.0, # the total distance from the start to the end of the trajectory (0.0)\n",
    "                threshold_condition=\"wind,>=,10.0,10;lat,<=,50.0,10;lat,>=,-50.0,10;zs,<,150,10\", # threshold\n",
    "                quiet=True,\n",
    "                out_command_only=True)"
   ]
  },
  {
   "cell_type": "code",
   "execution_count": null,
   "id": "6e745ac5-8dc0-4815-b55f-4034b7dca08d",
   "metadata": {},
   "outputs": [],
   "source": []
  }
 ],
 "metadata": {
  "kernelspec": {
   "display_name": "Python 3 (ipykernel)",
   "language": "python",
   "name": "python3"
  },
  "language_info": {
   "codemirror_mode": {
    "name": "ipython",
    "version": 3
   },
   "file_extension": ".py",
   "mimetype": "text/x-python",
   "name": "python",
   "nbconvert_exporter": "python",
   "pygments_lexer": "ipython3",
   "version": "3.9.2"
  }
 },
 "nbformat": 4,
 "nbformat_minor": 5
}
