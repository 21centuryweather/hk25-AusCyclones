{
 "cells": [
  {
   "cell_type": "markdown",
   "id": "9815bccb-975d-4adb-8092-09243f931c86",
   "metadata": {},
   "source": [
    "# TC detection on UM `Zoom = 7`"
   ]
  },
  {
   "cell_type": "code",
   "execution_count": null,
   "id": "4dc3a1e5-6836-4c70-8809-b23c8e2aec02",
   "metadata": {},
   "outputs": [],
   "source": [
    "# packages\n",
    "import os\n",
    "import sys\n",
    "import subprocess\n",
    "import numpy as np\n",
    "from glob import glob\n",
    "import pandas as pd\n",
    "import xarray as xr\n",
    "from dask.distributed import Client\n",
    "from datetime import datetime, timedelta"
   ]
  },
  {
   "cell_type": "code",
   "execution_count": null,
   "id": "0372ca52-538e-4fd1-aedb-2af8d7a6328c",
   "metadata": {},
   "outputs": [],
   "source": [
    "# link to self-written packages\n",
    "sys.path.append(\"/g/data/gb02/cj0591/hk25-AusCyclones\") # change to your directory\n",
    "from utils.tools import write_to_filelist, clear_dir\n",
    "from tempestextremes_utils.node_utils import run_stitchNodes"
   ]
  },
  {
   "cell_type": "code",
   "execution_count": null,
   "id": "71b40b4a",
   "metadata": {},
   "outputs": [],
   "source": [
    "def run_detectNodes_regional(input_filelist, detect_filelist, mpi_np=4,\n",
    "                             detect_var=\"msl\",\n",
    "                             merge_dist=6.0,\n",
    "                             closedcontour_commands=\"msl,200.0,5.5,0;_DIFF(z(300millibars),z(500millibars)),-58.8,6.5,1.0\",\n",
    "                             output_commands=\"msl,min,0;_VECMAG(u10,v10),max,2.0;zs,min,0\",\n",
    "                             timeinterval=\"6hr\",\n",
    "                             lonname=\"longitude\",latname=\"latitude\",\n",
    "                             minlon=90, maxlon=180, minlat=-60, maxlat=0,\n",
    "                             logdir=\"./log/\",\n",
    "                             quiet=False):\n",
    "\n",
    "    # DetectNode command\n",
    "    detectNode_command = [\"mpirun\", \"-np\", f\"{int(mpi_np)}\",\n",
    "                            f\"{os.environ['TEMPESTEXTREMESDIR']}/DetectNodes\",\n",
    "                            \"--in_data_list\",f\"{input_filelist}\",\n",
    "                            \"--out_file_list\", f\"{detect_filelist}\",\n",
    "                            \"--searchbymin\",f\"{detect_var}\",\n",
    "                            \"--closedcontourcmd\",f\"{closedcontour_commands}\",\n",
    "                            \"--mergedist\",f\"{merge_dist}\",\n",
    "                            \"--outputcmd\",f\"{output_commands}\",\n",
    "                            \"--timefilter\",f\"{timeinterval}\",\n",
    "                            \"--latname\",f\"{latname}\",\n",
    "                            \"--lonname\",f\"{lonname}\",\n",
    "                            \"--regional\",\n",
    "                            \"--minlon\",f\"{minlon}\",\n",
    "                            \"--maxlon\",f\"{maxlon}\",\n",
    "                            \"--minlat\",f\"{minlat}\",\n",
    "                            \"--maxlat\",f\"{maxlat}\",\n",
    "                            \"--logdir\",f\"{logdir}\",\n",
    "                            ]\n",
    "    \n",
    "    detectNode_process = subprocess.Popen(detectNode_command,\n",
    "                                          stdout=subprocess.PIPE, \n",
    "                                          stderr=subprocess.PIPE, text=True)\n",
    "    \n",
    "    # Wait for the process to complete and capture output\n",
    "    stdout, stderr = detectNode_process.communicate()\n",
    "\n",
    "    path,_=os.path.split(input_filelist)\n",
    "    outfile=path+'/detectNodes_outlog.txt'\n",
    "    with open(outfile, 'w') as file:\n",
    "        file.write(stdout)\n",
    "    outfile=path+'/detectNodes_errlog.txt'\n",
    "    with open(outfile, 'w') as file:\n",
    "        file.write(stderr)\n",
    "    if not quiet:\n",
    "         return stdout, stderr"
   ]
  },
  {
   "cell_type": "markdown",
   "id": "93b25883-3b4e-4b40-a8c7-89803636ea51",
   "metadata": {},
   "source": [
    "  "
   ]
  },
  {
   "cell_type": "markdown",
   "id": "8a262676-d3f5-4824-82b6-7f9dc98d86e0",
   "metadata": {},
   "source": [
    "TempestExtremes allows parallel running with `mpi`"
   ]
  },
  {
   "cell_type": "code",
   "execution_count": 3,
   "id": "28972438-b2ab-474d-b9e3-65966bd41916",
   "metadata": {},
   "outputs": [],
   "source": [
    "# set dask workers\n",
    "client = Client(n_workers=7)"
   ]
  },
  {
   "cell_type": "markdown",
   "id": "b7ce7cb6-7c10-45d5-8680-129fbd8b8cb8",
   "metadata": {},
   "source": [
    "  "
   ]
  },
  {
   "cell_type": "markdown",
   "id": "96899352-0b4a-47ef-9fd7-969fa29e059b",
   "metadata": {},
   "source": [
    "**Set directories**  \n",
    "`csv_dir` for TempestExtremes stitchNode final output  \n",
    "`log_dir` for log files  \n",
    "`input_dir` for input UM variables filelist  \n",
    "`output_dir` for TempestExtremes detectNode output filelist  \n",
    "`output_temp_dir` for temporary TempestExtremes detectNode ouput"
   ]
  },
  {
   "cell_type": "code",
   "execution_count": null,
   "id": "cc8927d7-256d-44e5-a91c-924e37807d90",
   "metadata": {},
   "outputs": [],
   "source": [
    "# base directory (change to your directory)\n",
    "base_dir = '/g/data/gb02/cj0591/hk25-AusCyclones'\n",
    "\n",
    "# input & output directory\n",
    "csv_dir = f'{base_dir}/csv' \n",
    "log_dir = f'{base_dir}/log' # log files\n",
    "input_dir = f'{base_dir}/in' # input filelist\n",
    "output_dir = f'{base_dir}/out' # output filelist\n",
    "output_temp_dir = f'{base_dir}/temp' # temporary for output files\n",
    "\n",
    "# directory for TempestExtremes\n",
    "os.environ['TEMPESTEXTREMESDIR']='/g/data/gb02/tempestextremes/bin'"
   ]
  },
  {
   "cell_type": "code",
   "execution_count": 8,
   "id": "d233bb55",
   "metadata": {},
   "outputs": [],
   "source": [
    "# be very careful with this - it will delete everything in the directory!!!\n",
    "clear_dir(log_dir)\n",
    "clear_dir(input_dir)\n",
    "clear_dir(output_dir)\n",
    "clear_dir(output_temp_dir)"
   ]
  },
  {
   "cell_type": "markdown",
   "id": "0f777d8e-ddf6-4da4-b996-5a884afaf643",
   "metadata": {},
   "source": [
    "    "
   ]
  },
  {
   "cell_type": "markdown",
   "id": "f5442c89-e14d-4c56-a404-080646593e98",
   "metadata": {},
   "source": [
    "**Required variables for TC detection**  \n",
    "\n",
    "| Variable Name                 | Level (hPa)                       |\n",
    "|-------------------------------|-----------------------------------|\n",
    "| Surface U-component Wind (uas)   | Surface                           |\n",
    "| Surface V-component Wind (uas)   | Surface                           |\n",
    "| Mean Sea Level Pressure (psl) | Surface                           |\n",
    "| Geopotential height (zg)              | 500, 300                          |"
   ]
  },
  {
   "cell_type": "markdown",
   "id": "34f93503-1007-4396-ae98-fb27a782470a",
   "metadata": {},
   "source": [
    "**Create lists for inputfile and outputfile**"
   ]
  },
  {
   "cell_type": "markdown",
   "id": "d0ae6d9b-e394-40c3-97b8-103083990119",
   "metadata": {},
   "source": [
    "Inputfile consist of several files containing geopotential height (zg) on pressure surfaces, air pressure at mean sea level (psl), surface zonal and meridional wind speeds (uas and vas), separated by semicolons."
   ]
  },
  {
   "cell_type": "code",
   "execution_count": 9,
   "id": "e3173aab-ced9-4ee0-b7d5-61befbac7413",
   "metadata": {},
   "outputs": [],
   "source": [
    "zgfiles = sorted(glob('/scratch/gb02/cj0591/um/zg/*'))\n",
    "pslfiles = sorted(glob('/scratch/gb02/cj0591/um/psl/*'))\n",
    "uasfiles = sorted(glob('/scratch/gb02/cj0591/um/uas/*'))\n",
    "vasfiles = sorted(glob('/scratch/gb02/cj0591/um/vas/*'))\n",
    "\n",
    "infilenames_list = []\n",
    "outfilenames_list = []\n",
    "\n",
    "for i in np.arange(0, len(zgfiles)):\n",
    "    infilenames_list.append(f\"{zgfiles[i]};{pslfiles[i]};{uasfiles[i]};{vasfiles[i]}\")\n",
    "    outfilenames_list.append(f\"{output_temp_dir}/detectNode_TC_hres7_{zgfiles[i][-10:-3]}.txt\")\n",
    "\n",
    "    write_to_filelist(infilenames_list,f'{input_dir}/detectNode_TC_input_hres7.txt')\n",
    "    write_to_filelist(outfilenames_list,f'{output_dir}/detectNode_TC_output_hres7.txt')"
   ]
  },
  {
   "cell_type": "markdown",
   "id": "504f611e-5d98-4a24-9715-bfcdf9808957",
   "metadata": {},
   "source": [
    "  "
   ]
  },
  {
   "cell_type": "markdown",
   "id": "71cc467d-9d20-4a6d-8131-17a58e71fefc",
   "metadata": {},
   "source": [
    "**Run TempestExtremes DetectNode**"
   ]
  },
  {
   "cell_type": "markdown",
   "id": "70a296ac-37d7-4785-bc51-1289714f852c",
   "metadata": {},
   "source": [
    "DetectNode detects nodes  \n",
    "\n",
    "\n",
    "Thresholds (`closedcontour_commands`) are applied: \n",
    "\n",
    "(a) `psl,200.0,5.5,0` represents that mean sea level pressure must increase by 200 Pa over a 5.5 great circle distance (GCD) from the detected node;  \n",
    "\n",
    "\n",
    "(b) `_DIFF(zg(300hPa),zg(500hPa)),-6,6.5,1.0` represents that the difference between geopotential height (zg) on the 300 and 500 hPa surfaces must decrease by 6 m over a 6.5 GCD, using the maximum value of this field within 1 GCD as reference. This ensures a coherent upper-level warm core attached to the detected surface low\n",
    "\n",
    "\n",
    "More details can be found in [Ullrich et al., 2021](https://gmd.copernicus.org/articles/14/5023/2021/)"
   ]
  },
  {
   "cell_type": "code",
   "execution_count": null,
   "id": "8274c112-cf96-460f-9191-c94dcea18efd",
   "metadata": {},
   "outputs": [],
   "source": [
    "run_detectNodes_regional(f'{input_dir}/detectNode_TC_input_hres7.txt', # inputfile list\n",
    "                         f'{output_dir}/detectNode_TC_output_hres7.txt', # outputfile list\n",
    "                         7, # cores used for mpi parallel running\n",
    "                         detect_var=\"psl\", # variable used to detect nodes\n",
    "                         merge_dist=6.0,   # merge distance of detected nodes are close to each other of 6.0 great circle distance (GCD)\n",
    "                         closedcontour_commands=\"psl,200.0,5.5,0;_DIFF(zg(300hPa),zg(500hPa)),-6,6.5,1.0\",\n",
    "                         output_commands=\"psl,min,0;_VECMAG(uas,vas),max,2.0\",\n",
    "                         timeinterval=\"6hr\",\n",
    "                         lonname=\"longitude\",latname=\"latitude\",\n",
    "                         minlon=90, maxlon=180, minlat=-60, maxlat=0,\n",
    "                         logdir=f\"{log_dir}\",\n",
    "                         quiet=True\n",
    "                         )"
   ]
  },
  {
   "cell_type": "markdown",
   "id": "6952f25d-f693-47d1-8c73-49d825f10c77",
   "metadata": {},
   "source": [
    "We can monitor the algrithm progress through log files under `log_dir`"
   ]
  },
  {
   "cell_type": "markdown",
   "id": "ee6ed27e-b1af-4285-8c5e-8a250f415da2",
   "metadata": {},
   "source": [
    "  "
   ]
  },
  {
   "cell_type": "markdown",
   "id": "bb016003-1ee1-4ef5-aa52-bfa7fe39a5d1",
   "metadata": {},
   "source": [
    "**Run TempestExtremes StitchNode**"
   ]
  },
  {
   "cell_type": "markdown",
   "id": "f48ad3a1-d997-48ef-81ee-1a6b44617fcb",
   "metadata": {},
   "source": [
    "StitchNode connects detected nodes in time.  \n",
    "\n",
    "\n",
    "Thresholds (`threshold_condition`) are applied:  \n",
    "\n",
    "(a) `wind,>=,10.0,10` represents that the wind magnitude must be greater than 10 m/s for at least 10 timesteps;  \n",
    "\n",
    "(b) `lat,<=,50.0,10;lat,>=,-50.0,10` represents that the latitude for detected nodes must be within 50S and 50N for at least 10 timesteps;  \n",
    "\n",
    "\n",
    "More details can be found in [Ullrich et al., 2021](https://gmd.copernicus.org/articles/14/5023/2021/)"
   ]
  },
  {
   "cell_type": "code",
   "execution_count": 8,
   "id": "5ce33f0e-cce6-4834-9f48-3af3d87c594c",
   "metadata": {},
   "outputs": [],
   "source": [
    "# Run TempestExtremes StitchNode\n",
    "run_stitchNodes(f\"{output_dir}/detectNode_TC_output_hres7\", # inputfile list\n",
    "                f\"{csv_dir}/stitchNode_TC_output_hres7.csv\", # output file\n",
    "                1, # cores used for mpi parallel running StitchNode run very fast with only one core\n",
    "                output_filefmt=\"csv\", # output format\n",
    "                in_fmt_commands=\"lon,lat,msl,wind\", # input format of the detectnode ouput\n",
    "                range_dist=8.0, # the maximum distance (in GCD) that a node can move between two timesteps\n",
    "                minim_time=\"54h\", # the minimum lifetime of each track\n",
    "                maxgap_time=\"24h\", # the maximum duration between two timesteps\n",
    "                min_endpoint_dist=\"\", # the total distance from the strat to the end of the trajectory\n",
    "                threshold_condition=\"wind,>=,10.0,10;lat,<=,50.0,10;lat,>=,-50.0,10\", # threshold\n",
    "                quiet=True)"
   ]
  }
 ],
 "metadata": {
  "kernelspec": {
   "display_name": "Python 3",
   "language": "python",
   "name": "python3"
  },
  "language_info": {
   "codemirror_mode": {
    "name": "ipython",
    "version": 3
   },
   "file_extension": ".py",
   "mimetype": "text/x-python",
   "name": "python",
   "nbconvert_exporter": "python",
   "pygments_lexer": "ipython3",
   "version": "3.10.14"
  }
 },
 "nbformat": 4,
 "nbformat_minor": 5
}
