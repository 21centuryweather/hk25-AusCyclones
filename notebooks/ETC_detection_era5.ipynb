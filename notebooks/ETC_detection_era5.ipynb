{
 "cells": [
  {
   "cell_type": "code",
   "execution_count": null,
   "id": "26a3cd90-7f88-4e9b-b043-fda5f8b66510",
   "metadata": {},
   "outputs": [],
   "source": [
    "# packages\n",
    "import os\n",
    "import sys\n",
    "import numpy as np\n",
    "from datetime import datetime\n",
    "from dask.distributed import Client"
   ]
  },
  {
   "cell_type": "code",
   "execution_count": null,
   "id": "94c398c6-3eda-488d-9798-9b6bf099d7a0",
   "metadata": {},
   "outputs": [],
   "source": [
    "# link to self-written packages\n",
    "sys.path.append(\"/g/data/gb02/cj0591/hk25-AusCyclones\") # change to your directory\n",
    "from utils.tools import write_to_filelist, clear_dir\n",
    "from utils.nci_utils import get_GADI_ERA5_filename\n",
    "from tempestextremes_utils.node_utils import run_detectNodes, run_stitchNodes"
   ]
  },
  {
   "cell_type": "markdown",
   "id": "93b25883-3b4e-4b40-a8c7-89803636ea51",
   "metadata": {},
   "source": [
    "  "
   ]
  },
  {
   "cell_type": "markdown",
   "id": "8a262676-d3f5-4824-82b6-7f9dc98d86e0",
   "metadata": {},
   "source": [
    "TempestExtremes allows parallel running with `mpi`"
   ]
  },
  {
   "cell_type": "code",
   "execution_count": 3,
   "id": "4cc7cb2d-08f4-4055-8db0-10bc384ab920",
   "metadata": {},
   "outputs": [],
   "source": [
    "# set dask workers\n",
    "client = Client(n_workers=56)"
   ]
  },
  {
   "cell_type": "markdown",
   "id": "b7ce7cb6-7c10-45d5-8680-129fbd8b8cb8",
   "metadata": {},
   "source": [
    "  "
   ]
  },
  {
   "cell_type": "markdown",
   "id": "96899352-0b4a-47ef-9fd7-969fa29e059b",
   "metadata": {},
   "source": [
    "**Set directories**  \n",
    "`csv_dir` for TempestExtremes stitchNode final output  \n",
    "`log_dir` for log files  \n",
    "`input_dir` for input era5 variable filelist  \n",
    "`output_dir` for TempestExtremes detectNode output filelist  \n",
    "`output_temp_dir` for temporary TempestExtremes detectNode ouput"
   ]
  },
  {
   "cell_type": "code",
   "execution_count": null,
   "id": "cc8927d7-256d-44e5-a91c-924e37807d90",
   "metadata": {},
   "outputs": [],
   "source": [
    "# base directory (change to your directory)\n",
    "base_dir = '/g/data/gb02/cj0591/hk25-AusCyclones'\n",
    "\n",
    "# input & output directory\n",
    "csv_dir = f'{base_dir}/csv' \n",
    "log_dir = f'{base_dir}/log' # log files\n",
    "input_dir = f'{base_dir}/in' # input filelist\n",
    "output_dir = f'{base_dir}/out' # output filelist\n",
    "output_temp_dir = f'{base_dir}/temp' # temporary for output files\n",
    "\n",
    "# directory for TempestExtremes\n",
    "os.environ['TEMPESTEXTREMESDIR']='/g/data/gb02/tempestextremes/bin'"
   ]
  },
  {
   "cell_type": "code",
   "execution_count": 17,
   "id": "d233bb55",
   "metadata": {},
   "outputs": [],
   "source": [
    "# be very careful with this - it will delete everything in the directory!!!\n",
    "clear_dir(csv_dir)\n",
    "clear_dir(log_dir)\n",
    "clear_dir(input_dir)\n",
    "clear_dir(output_dir)"
   ]
  },
  {
   "cell_type": "markdown",
   "id": "0f777d8e-ddf6-4da4-b996-5a884afaf643",
   "metadata": {},
   "source": [
    "  "
   ]
  },
  {
   "cell_type": "markdown",
   "id": "f5442c89-e14d-4c56-a404-080646593e98",
   "metadata": {},
   "source": [
    "**Required variables for ETC detection**  \n",
    "\n",
    "| Variable Name                 | Level (hPa)                       |\n",
    "|-------------------------------|-----------------------------------|\n",
    "| Mean Sea Level Pressure (msl) | Surface                           |"
   ]
  },
  {
   "cell_type": "markdown",
   "id": "34f93503-1007-4396-ae98-fb27a782470a",
   "metadata": {},
   "source": [
    "**Create lists for inputfile and outputfile**"
   ]
  },
  {
   "cell_type": "markdown",
   "id": "d0ae6d9b-e394-40c3-97b8-103083990119",
   "metadata": {},
   "source": [
    "Inputfile consist of several files containing mean sea level pressure (msl)."
   ]
  },
  {
   "cell_type": "code",
   "execution_count": 5,
   "id": "e54d11ab-cc76-4f27-ab0d-1cbd61582d54",
   "metadata": {},
   "outputs": [],
   "source": [
    "year_sta = 1980\n",
    "year_end = 2020\n",
    "\n",
    "month_sta = 1\n",
    "month_end = 12\n",
    "\n",
    "infilenames_list = []\n",
    "outfilenames_list = []\n",
    "for year in np.arange(year_sta, year_end+1):\n",
    "    for month in np.arange(month_sta, month_end+1):\n",
    "        # msl\n",
    "        mslfile = get_GADI_ERA5_filename('msl',datetime(year,month,1),\n",
    "                                         stream='hourly',level_type='single-levels')\n",
    "\n",
    "        infilenames_list.append(f\"{mslfile}\")\n",
    "        outfilenames_list.append(f\"{output_temp_dir}/detectNode_ETC_era5_{mslfile[-20:-3]}.txt\")\n",
    "    \n",
    "        write_to_filelist(infilenames_list,f'{input_dir}/detectNode_ETC_input_era5_{str(year_sta)}-{str(year_end)}.txt')\n",
    "        write_to_filelist(outfilenames_list,f'{output_dir}/detectNode_ETC_output_era5_{str(year_sta)}-{str(year_end)}.txt')"
   ]
  },
  {
   "cell_type": "markdown",
   "id": "504f611e-5d98-4a24-9715-bfcdf9808957",
   "metadata": {},
   "source": [
    "  "
   ]
  },
  {
   "cell_type": "markdown",
   "id": "71cc467d-9d20-4a6d-8131-17a58e71fefc",
   "metadata": {},
   "source": [
    "**Run TempestExtremes DetectNode**"
   ]
  },
  {
   "cell_type": "markdown",
   "id": "70a296ac-37d7-4785-bc51-1289714f852c",
   "metadata": {},
   "source": [
    "DetectNode detects nodes  \n",
    "\n",
    "\n",
    "Thresholds (`closedcontour_commands`) are applied: \n",
    "\n",
    "(a) `msl,200.0,6.0,0` represents that mean sea level pressure must increase by 200 Pa over a 6.0 great circle distance (GCD) from the detected node;  \n",
    "\n",
    "\n",
    "More details can be found in [Ullrich et al., 2021](https://gmd.copernicus.org/articles/14/5023/2021/)"
   ]
  },
  {
   "cell_type": "code",
   "execution_count": 6,
   "id": "f73d3d8d-a804-4d05-b89d-e7db8586fefe",
   "metadata": {},
   "outputs": [],
   "source": [
    "run_detectNodes(f'{input_dir}/detectNode_ETC_input_era5_{str(year_sta)}-{str(year_end)}.txt', # inputfile list\n",
    "                f'{output_dir}/detectNode_ETC_output_era5_{str(year_sta)}-{str(year_end)}.txt', # outputfile list\n",
    "                56, # cores used for mpi parallel running\n",
    "                detect_var=\"msl\", # variable used to detect nodes\n",
    "                merge_dist=6.0,   # merge distance of detected nodes are close to each other of 6.0 great circle distance (GCD)\n",
    "                closedcontour_commands=\"msl,200.0,5.5,0\",\n",
    "                output_commands=\"msl,min,0\",\n",
    "                timeinterval=\"6hr\",\n",
    "                lonname=\"longitude\",latname=\"latitude\", \n",
    "                logdir=f\"{log_dir}\",\n",
    "                quiet=True\n",
    "                )"
   ]
  },
  {
   "cell_type": "markdown",
   "id": "6952f25d-f693-47d1-8c73-49d825f10c77",
   "metadata": {},
   "source": [
    "We can monitor the algrithm progress through log files under `log_dir`"
   ]
  },
  {
   "cell_type": "markdown",
   "id": "ee6ed27e-b1af-4285-8c5e-8a250f415da2",
   "metadata": {},
   "source": [
    "  "
   ]
  },
  {
   "cell_type": "markdown",
   "id": "bb016003-1ee1-4ef5-aa52-bfa7fe39a5d1",
   "metadata": {},
   "source": [
    "**Run TempestExtremes StitchNode**"
   ]
  },
  {
   "cell_type": "markdown",
   "id": "f48ad3a1-d997-48ef-81ee-1a6b44617fcb",
   "metadata": {},
   "source": [
    "StitchNode connects detected nodes in time.  \n",
    "\n",
    "\n",
    "Thresholds (`threshold_condition`) are not applied here:  \n",
    "\n",
    "\n",
    "More details can be found in [Ullrich et al., 2021](https://gmd.copernicus.org/articles/14/5023/2021/)"
   ]
  },
  {
   "cell_type": "code",
   "execution_count": 7,
   "id": "4d8c84f3-e1fb-4b21-90f5-04b8e948ac2f",
   "metadata": {},
   "outputs": [],
   "source": [
    "# Run TempestExtremes StitchNode\n",
    "run_stitchNodes(f\"{output_dir}/detectNode_ETC_output_era5_{str(year_sta)}-{str(year_end)}.txt\", # inputfile list\n",
    "                f\"{csv_dir}/stitchNode_ETC_output_era5_{str(year_sta)}-{str(year_end)}.csv\", # output file\n",
    "                1, # cores used for mpi parallel running StitchNode run very fast with only one core\n",
    "                output_filefmt=\"csv\", # output format\n",
    "                in_fmt_commands=\"lon,lat,msl\", # input format of the detectnode ouput\n",
    "                range_dist=6.0, # the maximum distance (in GCD) that a node can move between two timesteps\n",
    "                minim_time=\"60h\", # the minimum lifetime of each track\n",
    "                maxgap_time=\"18h\", # the maximum duration between two timesteps\n",
    "                min_endpoint_dist=12.0, # the total distance from the strat to the end of the trajectory\n",
    "                threshold_condition=\"\", # threshold\n",
    "                quiet=True)"
   ]
  }
 ],
 "metadata": {
  "kernelspec": {
   "display_name": "hackathon_kernel",
   "language": "python",
   "name": "hackathon_env"
  },
  "language_info": {
   "codemirror_mode": {
    "name": "ipython",
    "version": 3
   },
   "file_extension": ".py",
   "mimetype": "text/x-python",
   "name": "python",
   "nbconvert_exporter": "python",
   "pygments_lexer": "ipython3",
   "version": "3.11.11"
  }
 },
 "nbformat": 4,
 "nbformat_minor": 5
}
