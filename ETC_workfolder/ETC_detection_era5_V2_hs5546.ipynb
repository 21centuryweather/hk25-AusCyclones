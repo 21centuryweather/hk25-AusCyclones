{
 "cells": [
  {
   "cell_type": "code",
   "execution_count": 8,
   "id": "26a3cd90-7f88-4e9b-b043-fda5f8b66510",
   "metadata": {},
   "outputs": [],
   "source": [
    "# packages\n",
    "import os\n",
    "import sys\n",
    "import numpy as np\n",
    "from datetime import datetime\n",
    "from dask.distributed import Client"
   ]
  },
  {
   "cell_type": "code",
   "execution_count": 9,
   "id": "31d6d8e8-80b1-4cc9-a3bd-f03b468a0146",
   "metadata": {},
   "outputs": [],
   "source": [
    "CASE_NAME='ETCs_Test_2022_10'\n",
    "user='ad1803' # Username on GADI - if you are storing on /scratch/nf33/user\n",
    "N_CORES=1 # Cores for your job to use (set to 100, then it will run on 100 cores and you will need 100 cores. Runs 1 file per core, so if you have 5 files you need max 5 cores)"
   ]
  },
  {
   "cell_type": "code",
   "execution_count": 10,
   "id": "94c398c6-3eda-488d-9798-9b6bf099d7a0",
   "metadata": {},
   "outputs": [],
   "source": [
    "# directory for TempestExtremes\n",
    "os.environ['TEMPESTEXTREMESDIR']='/scratch/nf33/tempestextremes/bin'\n",
    "\n",
    "# link to self-written packages\n",
    "sys.path.append(f\"/scratch/nf33/{user}/hk25-AusCyclones\") # change to your director\n",
    "from utils.tools import create_Node_dirstruct, write_to_filelist, clear_dir, generate_datetimes_months\n",
    "from utils.nci_utils import get_GADI_ERA5_filename\n",
    "from tempestextremes_utils.node_utils import run_detectNodes, run_stitchNodes"
   ]
  },
  {
   "cell_type": "markdown",
   "id": "93b25883-3b4e-4b40-a8c7-89803636ea51",
   "metadata": {},
   "source": [
    "  "
   ]
  },
  {
   "cell_type": "markdown",
   "id": "8a262676-d3f5-4824-82b6-7f9dc98d86e0",
   "metadata": {},
   "source": [
    "TempestExtremes allows parallel running with `mpi`"
   ]
  },
  {
   "cell_type": "code",
   "execution_count": 11,
   "id": "28972438-b2ab-474d-b9e3-65966bd41916",
   "metadata": {},
   "outputs": [],
   "source": [
    "# set dask workers\n",
    "client = Client(n_workers=N_CORES)"
   ]
  },
  {
   "cell_type": "markdown",
   "id": "b7ce7cb6-7c10-45d5-8680-129fbd8b8cb8",
   "metadata": {},
   "source": [
    "  "
   ]
  },
  {
   "cell_type": "code",
   "execution_count": 12,
   "id": "cc8927d7-256d-44e5-a91c-924e37807d90",
   "metadata": {},
   "outputs": [
    {
     "name": "stdout",
     "output_type": "stream",
     "text": [
      "Directory '/scratch/nf33/ad1803/hk25-AusCyclones/ETC_workfolder/Test_month/ETCs_Test_2022_10' already exists.\n",
      "Directory '/scratch/nf33/ad1803/hk25-AusCyclones/ETC_workfolder/Test_month/ETCs_Test_2022_10/input' already exists.\n",
      "Directory '/scratch/nf33/ad1803/hk25-AusCyclones/ETC_workfolder/Test_month/ETCs_Test_2022_10/detectNodes' already exists.\n",
      "Directory '/scratch/nf33/ad1803/hk25-AusCyclones/ETC_workfolder/Test_month/ETCs_Test_2022_10/stitchNodes' already exists.\n"
     ]
    }
   ],
   "source": [
    "# base directory (change to your directory)\n",
    "base_dir = f\"/scratch/nf33/{user}/hk25-AusCyclones/ETC_workfolder/Test_month/\"\n",
    "case_dir, input_dir, detect_dir, stitch_dir = create_Node_dirstruct(base_dir,CASE_NAME)"
   ]
  },
  {
   "cell_type": "markdown",
   "id": "22b63b96-5c07-4551-a8cb-af0b9e412984",
   "metadata": {},
   "source": [
    "#### CAREFUL!!!!! The below commands will clear out all your results directories! Proceed with caution!! #####"
   ]
  },
  {
   "cell_type": "code",
   "execution_count": 13,
   "id": "d233bb55",
   "metadata": {},
   "outputs": [
    {
     "name": "stderr",
     "output_type": "stream",
     "text": [
      "rm: cannot remove '/scratch/nf33/ad1803/hk25-AusCyclones/ETC_workfolder/Test_month/ETCs_Test_2022_10/input/input_files.txt': Permission denied\n"
     ]
    },
    {
     "ename": "CalledProcessError",
     "evalue": "Command 'rm -f /scratch/nf33/ad1803/hk25-AusCyclones/ETC_workfolder/Test_month/ETCs_Test_2022_10/input/*' returned non-zero exit status 1.",
     "output_type": "error",
     "traceback": [
      "\u001b[0;31m---------------------------------------------------------------------------\u001b[0m",
      "\u001b[0;31mCalledProcessError\u001b[0m                        Traceback (most recent call last)",
      "Input \u001b[0;32mIn [13]\u001b[0m, in \u001b[0;36m<cell line: 2>\u001b[0;34m()\u001b[0m\n\u001b[1;32m      1\u001b[0m \u001b[38;5;66;03m### be very careful with this - it will delete everything in the directory!!!\u001b[39;00m\n\u001b[0;32m----> 2\u001b[0m \u001b[43mclear_dir\u001b[49m\u001b[43m(\u001b[49m\u001b[43minput_dir\u001b[49m\u001b[43m)\u001b[49m\n\u001b[1;32m      3\u001b[0m clear_dir(detect_dir)\n\u001b[1;32m      4\u001b[0m clear_dir(stitch_dir)\n",
      "File \u001b[0;32m/scratch/nf33/ad1803/hk25-AusCyclones/utils/tools.py:28\u001b[0m, in \u001b[0;36mclear_dir\u001b[0;34m(dir)\u001b[0m\n\u001b[1;32m     27\u001b[0m \u001b[38;5;28;01mdef\u001b[39;00m \u001b[38;5;21mclear_dir\u001b[39m(\u001b[38;5;28mdir\u001b[39m):\n\u001b[0;32m---> 28\u001b[0m     \u001b[43msubprocess\u001b[49m\u001b[38;5;241;43m.\u001b[39;49m\u001b[43mrun\u001b[49m\u001b[43m(\u001b[49m\u001b[38;5;124;43mf\u001b[39;49m\u001b[38;5;124;43m'\u001b[39;49m\u001b[38;5;124;43mrm -f \u001b[39;49m\u001b[38;5;132;43;01m{\u001b[39;49;00m\u001b[38;5;28;43mdir\u001b[39;49m\u001b[38;5;132;43;01m}\u001b[39;49;00m\u001b[38;5;124;43m/*\u001b[39;49m\u001b[38;5;124;43m'\u001b[39;49m\u001b[43m,\u001b[49m\u001b[43m \u001b[49m\u001b[43mshell\u001b[49m\u001b[38;5;241;43m=\u001b[39;49m\u001b[38;5;28;43;01mTrue\u001b[39;49;00m\u001b[43m,\u001b[49m\u001b[43m \u001b[49m\u001b[43mcheck\u001b[49m\u001b[38;5;241;43m=\u001b[39;49m\u001b[38;5;28;43;01mTrue\u001b[39;49;00m\u001b[43m)\u001b[49m\n",
      "File \u001b[0;32m/apps/python3/3.9.2/lib/python3.9/subprocess.py:528\u001b[0m, in \u001b[0;36mrun\u001b[0;34m(input, capture_output, timeout, check, *popenargs, **kwargs)\u001b[0m\n\u001b[1;32m    526\u001b[0m     retcode \u001b[38;5;241m=\u001b[39m process\u001b[38;5;241m.\u001b[39mpoll()\n\u001b[1;32m    527\u001b[0m     \u001b[38;5;28;01mif\u001b[39;00m check \u001b[38;5;129;01mand\u001b[39;00m retcode:\n\u001b[0;32m--> 528\u001b[0m         \u001b[38;5;28;01mraise\u001b[39;00m CalledProcessError(retcode, process\u001b[38;5;241m.\u001b[39margs,\n\u001b[1;32m    529\u001b[0m                                  output\u001b[38;5;241m=\u001b[39mstdout, stderr\u001b[38;5;241m=\u001b[39mstderr)\n\u001b[1;32m    530\u001b[0m \u001b[38;5;28;01mreturn\u001b[39;00m CompletedProcess(process\u001b[38;5;241m.\u001b[39margs, retcode, stdout, stderr)\n",
      "\u001b[0;31mCalledProcessError\u001b[0m: Command 'rm -f /scratch/nf33/ad1803/hk25-AusCyclones/ETC_workfolder/Test_month/ETCs_Test_2022_10/input/*' returned non-zero exit status 1."
     ]
    }
   ],
   "source": [
    "### be very careful with this - it will delete everything in the directory!!!\n",
    "clear_dir(input_dir)\n",
    "clear_dir(detect_dir)\n",
    "clear_dir(stitch_dir)"
   ]
  },
  {
   "cell_type": "markdown",
   "id": "0f777d8e-ddf6-4da4-b996-5a884afaf643",
   "metadata": {},
   "source": [
    "    "
   ]
  },
  {
   "cell_type": "markdown",
   "id": "f5442c89-e14d-4c56-a404-080646593e98",
   "metadata": {},
   "source": [
    "**Required variables for TC detection**  \n",
    "\n",
    "| Variable Name                 | Level (hPa)                       |\n",
    "|-------------------------------|-----------------------------------|\n",
    "| Elevation (zs)                | Surface                           |\n",
    "| Mean Sea Level Pressure (msl) | Surface                           |\n",
    "| Geopotential (z)              | 500, 300                          |"
   ]
  },
  {
   "cell_type": "markdown",
   "id": "34f93503-1007-4396-ae98-fb27a782470a",
   "metadata": {},
   "source": [
    "**Create lists for inputfile and outputfile**"
   ]
  },
  {
   "cell_type": "markdown",
   "id": "d0ae6d9b-e394-40c3-97b8-103083990119",
   "metadata": {},
   "source": [
    "Inputfile consist of several files containing geopotential height (z) on pressure surfaces, mean sea level pressure (msl), 10-m zonal and meridional wind speeds (u10 and v10), and surface elevation (zs), separated by semicolons. Note that surface elevation data can found at `~/data/zs_era5_oper_sfc_invariant.nc`."
   ]
  },
  {
   "cell_type": "code",
   "execution_count": 14,
   "id": "e54d11ab-cc76-4f27-ab0d-1cbd61582d54",
   "metadata": {},
   "outputs": [
    {
     "ename": "PermissionError",
     "evalue": "[Errno 13] Permission denied: '/scratch/nf33/ad1803/hk25-AusCyclones/ETC_workfolder/Test_month/ETCs_Test_2022_10/input/input_files.txt'",
     "output_type": "error",
     "traceback": [
      "\u001b[0;31m---------------------------------------------------------------------------\u001b[0m",
      "\u001b[0;31mPermissionError\u001b[0m                           Traceback (most recent call last)",
      "Input \u001b[0;32mIn [14]\u001b[0m, in \u001b[0;36m<cell line: 24>\u001b[0;34m()\u001b[0m\n\u001b[1;32m     21\u001b[0m     outfilenames_list\u001b[38;5;241m.\u001b[39mappend(\u001b[38;5;124mf\u001b[39m\u001b[38;5;124m\"\u001b[39m\u001b[38;5;132;01m{\u001b[39;00mdetect_dir\u001b[38;5;132;01m}\u001b[39;00m\u001b[38;5;124m/detectNodes_\u001b[39m\u001b[38;5;132;01m{\u001b[39;00mdate_YM\u001b[38;5;132;01m}\u001b[39;00m\u001b[38;5;124m.txt\u001b[39m\u001b[38;5;124m\"\u001b[39m)\n\u001b[1;32m     23\u001b[0m input_filelist\u001b[38;5;241m=\u001b[39m\u001b[38;5;124mf\u001b[39m\u001b[38;5;124m\"\u001b[39m\u001b[38;5;132;01m{\u001b[39;00minput_dir\u001b[38;5;132;01m}\u001b[39;00m\u001b[38;5;124m/input_files.txt\u001b[39m\u001b[38;5;124m\"\u001b[39m\n\u001b[0;32m---> 24\u001b[0m \u001b[43mwrite_to_filelist\u001b[49m\u001b[43m(\u001b[49m\u001b[43minfilenames_list\u001b[49m\u001b[43m,\u001b[49m\u001b[43minput_filelist\u001b[49m\u001b[43m)\u001b[49m\n\u001b[1;32m     25\u001b[0m detect_filelist\u001b[38;5;241m=\u001b[39m\u001b[38;5;124mf\u001b[39m\u001b[38;5;124m\"\u001b[39m\u001b[38;5;132;01m{\u001b[39;00mdetect_dir\u001b[38;5;132;01m}\u001b[39;00m\u001b[38;5;124m/detect_files.txt\u001b[39m\u001b[38;5;124m\"\u001b[39m\n\u001b[1;32m     26\u001b[0m write_to_filelist(outfilenames_list,detect_filelist)\n",
      "File \u001b[0;32m/scratch/nf33/ad1803/hk25-AusCyclones/utils/tools.py:23\u001b[0m, in \u001b[0;36mwrite_to_filelist\u001b[0;34m(infilenames, outfile)\u001b[0m\n\u001b[1;32m     22\u001b[0m \u001b[38;5;28;01mdef\u001b[39;00m \u001b[38;5;21mwrite_to_filelist\u001b[39m(infilenames,outfile):\n\u001b[0;32m---> 23\u001b[0m     \u001b[38;5;28;01mwith\u001b[39;00m \u001b[38;5;28;43mopen\u001b[39;49m\u001b[43m(\u001b[49m\u001b[43moutfile\u001b[49m\u001b[43m,\u001b[49m\u001b[43m \u001b[49m\u001b[38;5;124;43m'\u001b[39;49m\u001b[38;5;124;43mw\u001b[39;49m\u001b[38;5;124;43m'\u001b[39;49m\u001b[43m)\u001b[49m \u001b[38;5;28;01mas\u001b[39;00m file:\n\u001b[1;32m     24\u001b[0m         \u001b[38;5;28;01mfor\u001b[39;00m infilename \u001b[38;5;129;01min\u001b[39;00m infilenames:\n\u001b[1;32m     25\u001b[0m             file\u001b[38;5;241m.\u001b[39mwrite(infilename \u001b[38;5;241m+\u001b[39m \u001b[38;5;124m'\u001b[39m\u001b[38;5;130;01m\\n\u001b[39;00m\u001b[38;5;124m'\u001b[39m)\n",
      "\u001b[0;31mPermissionError\u001b[0m: [Errno 13] Permission denied: '/scratch/nf33/ad1803/hk25-AusCyclones/ETC_workfolder/Test_month/ETCs_Test_2022_10/input/input_files.txt'"
     ]
    }
   ],
   "source": [
    "date_sta = datetime(2022,10,1)\n",
    "date_end = datetime(2022,11,1)\n",
    "\n",
    "infilenames_list = []\n",
    "outfilenames_list = []\n",
    "\n",
    "datetimes=generate_datetimes_months(date_sta,date_end,interval=1)\n",
    "for dt in datetimes:\n",
    "    date_YM=dt.strftime('%Y%m')\n",
    "    # zs\n",
    "    zsfile = f\"/scratch/nf33/{user}/hk25-AusCyclones/data/zs_era5_oper_sfc_invariant.nc\"\n",
    "    # msl\n",
    "    mslfile = get_GADI_ERA5_filename('msl',dt,stream='hourly',level_type='single-levels')\n",
    "    # z\n",
    "    zfile = get_GADI_ERA5_filename('z',dt,stream='hourly',level_type='pressure-levels')\n",
    "    #seaice \n",
    "    \n",
    "\n",
    "\n",
    "    infilenames_list.append(f\"{zfile};{zsfile};{mslfile}\")\n",
    "    outfilenames_list.append(f\"{detect_dir}/detectNodes_{date_YM}.txt\")\n",
    "        \n",
    "input_filelist=f\"{input_dir}/input_files.txt\"\n",
    "write_to_filelist(infilenames_list,input_filelist)\n",
    "detect_filelist=f\"{detect_dir}/detect_files.txt\"\n",
    "write_to_filelist(outfilenames_list,detect_filelist)\n",
    "stitch_file=f\"{stitch_dir}/stitchNodes.csv\""
   ]
  },
  {
   "cell_type": "markdown",
   "id": "504f611e-5d98-4a24-9715-bfcdf9808957",
   "metadata": {},
   "source": [
    "  "
   ]
  },
  {
   "cell_type": "markdown",
   "id": "71cc467d-9d20-4a6d-8131-17a58e71fefc",
   "metadata": {},
   "source": [
    "**Run TempestExtremes DetectNode**"
   ]
  },
  {
   "cell_type": "markdown",
   "id": "70a296ac-37d7-4785-bc51-1289714f852c",
   "metadata": {},
   "source": [
    "DetectNode detects nodes  \n",
    "\n",
    "\n",
    "Thresholds (`closedcontour_commands`) are applied: \n",
    "\n",
    "(a) `msl,200.0,5.5,0` represents that mean sea level pressure must increase by 200 Pa over a 5.5 great circle distance (GCD) from the detected node;  \n",
    "\n",
    "\n",
    "(b) `_DIFF(z(300millibars),z(500millibars)),-58.8,6.5,1.0` represents that the difference between geopotential (Z) on the 300 and 500 millibars surfaces must decrease by 58.8 m2 s−2 over a 6.5 GCD, using the maximum value of this field within 1 GCD as reference. This ensures a coherent upper-level warm core attached to the detected surface low\n",
    "\n",
    "\n",
    "More details can be found in [Ullrich et al., 2021](https://gmd.copernicus.org/articles/14/5023/2021/)"
   ]
  },
  {
   "cell_type": "code",
   "execution_count": 28,
   "id": "484b5977",
   "metadata": {},
   "outputs": [
    {
     "name": "stdout",
     "output_type": "stream",
     "text": [
      "mpirun -np 1 /scratch/nf33/tempestextremes/bin/DetectNodes --in_data_list /scratch/nf33/ad1803/hk25-AusCyclones/ETC_workfolder/Test_month/ETCs_Test_2022_10/input/input_files.txt --out_file_list /scratch/nf33/ad1803/hk25-AusCyclones/ETC_workfolder/Test_month/ETCs_Test_2022_10/detectNodes/detect_files.txt --searchbymin msl --closedcontourcmd \"msl,200.0,5.5,0\" --mergedist 6.0 --outputcmd \"msl,min,0;zs,min,0\" --timefilter \"6hr\" --latname latitude --lonname longitude --logdir /scratch/nf33/ad1803/hk25-AusCyclones/ETC_workfolder/Test_month/ETCs_Test_2022_10/\n"
     ]
    }
   ],
   "source": [
    "run_detectNodes(f\"{input_dir}/input_files.txt\", #input filelist\n",
    "                f\"{detect_dir}/detect_files.txt\", #output filelist \n",
    "                N_CORES, # cores used for mpi parallel running\n",
    "                detect_var=\"msl\", # variable used to detect nodes\n",
    "                merge_dist=6.0,   # merge distance of detected nodes are close to each other of 6.0 great circle distance (GCD)\n",
    "                closedcontour_commands=\"msl,200.0,5.5,0\",\n",
    "                output_commands=\"msl,min,0;zs,min,0\",\n",
    "                timeinterval=\"6hr\",\n",
    "                lonname=\"longitude\",latname=\"latitude\", \n",
    "                logdir=f\"{case_dir}/\",\n",
    "                quiet=True,\n",
    "                out_command_only=True, #Set to true to produce the command line function without running it here (set to false to run in python notebook only)\n",
    "                )"
   ]
  },
  {
   "cell_type": "markdown",
   "id": "6952f25d-f693-47d1-8c73-49d825f10c77",
   "metadata": {},
   "source": [
    "We can monitor the algrithm progress through log files under `log_dir`; 40-year TC detection took around 1.5 hrs with 108 nodes."
   ]
  },
  {
   "cell_type": "markdown",
   "id": "ee6ed27e-b1af-4285-8c5e-8a250f415da2",
   "metadata": {},
   "source": [
    "  "
   ]
  },
  {
   "cell_type": "markdown",
   "id": "bb016003-1ee1-4ef5-aa52-bfa7fe39a5d1",
   "metadata": {},
   "source": [
    "**Run TempestExtremes StitchNode**"
   ]
  },
  {
   "cell_type": "markdown",
   "id": "f48ad3a1-d997-48ef-81ee-1a6b44617fcb",
   "metadata": {},
   "source": [
    "StitchNode connects detected nodes in time.  \n",
    "\n",
    "\n",
    "Thresholds (`threshold_condition`) are applied:  \n",
    "\n",
    "(a) `wind,>=,10.0,10` represents that the wind magnitude must be greater than 10 m/s for at least 10 timesteps;  \n",
    "\n",
    "(b) `lat,<=,50.0,10;lat,>=,-50.0,10` represents that the latitude for detected nodes must be within 50S and 50N for at least 10 timesteps;  \n",
    "\n",
    "(c) `zs,<,150,10` represents that the detected Node must exit below 150 m for at least 10 timesteps  \n",
    "\n",
    "\n",
    "More details can be found in [Ullrich et al., 2021](https://gmd.copernicus.org/articles/14/5023/2021/)"
   ]
  },
  {
   "cell_type": "code",
   "execution_count": 16,
   "id": "4d8c84f3-e1fb-4b21-90f5-04b8e948ac2f",
   "metadata": {},
   "outputs": [
    {
     "name": "stdout",
     "output_type": "stream",
     "text": [
      "mpirun -np 12 /scratch/nf33/tempestextremes/bin/StitchNodes --in_list /scratch/nf33/ad1803/hk25-AusCyclones/ETC_workfolder/ETCs_Climatology/detectNodes/detect_files.txt --in_fmt \"lon,lat,msl,zs\" --range 6.0 --mintime 24h --maxgap 18h --threshold \"zs,<=,50,1\" --min_endpoint_dist 0.0 --out_file_format csv --out /scratch/nf33/ad1803/hk25-AusCyclones/ETC_workfolder/ETCs_Climatology/stitchNodes/stitchNodes.csv\n"
     ]
    }
   ],
   "source": [
    "# Run TempestExtremes StitchNode\n",
    "run_stitchNodes(f\"{detect_dir}/detect_files.txt\", # inputfile list (detectNodes output)\n",
    "                stitch_file, # output file\n",
    "                N_CORES, # cores used for mpi parallel running StitchNode run very fast with only one core\n",
    "                output_filefmt=\"csv\", # output format\n",
    "                in_fmt_commands=\"lon,lat,msl,zs\", # input format of the detectnode ouput\n",
    "                range_dist=6.0, # the maximum distance (in GCD) that a node can move between two timesteps\n",
    "                minim_time=\"24h\", # the minimum lifetime of each track\n",
    "                maxgap_time=\"18h\", # the maximum duration between two timesteps\n",
    "                min_endpoint_dist=0.0, # the total distance from the start to the end of the trajectory (0.0)\n",
    "                threshold_condition=\"zs,<=,50,1\", # threshold, set threshold for orography\n",
    "                quiet=True,\n",
    "                out_command_only=True)"
   ]
  },
  {
   "cell_type": "markdown",
   "id": "11ea097c-42ca-45eb-9c3f-c39a0e911b9c",
   "metadata": {},
   "source": [
    "# Climatology"
   ]
  },
  {
   "cell_type": "code",
   "execution_count": null,
   "id": "541c3594-8fb2-4c9e-8299-16b471a3dad5",
   "metadata": {},
   "outputs": [],
   "source": []
  }
 ],
 "metadata": {
  "kernelspec": {
   "display_name": "Python 3 (ipykernel)",
   "language": "python",
   "name": "python3"
  },
  "language_info": {
   "codemirror_mode": {
    "name": "ipython",
    "version": 3
   },
   "file_extension": ".py",
   "mimetype": "text/x-python",
   "name": "python",
   "nbconvert_exporter": "python",
   "pygments_lexer": "ipython3",
   "version": "3.9.2"
  }
 },
 "nbformat": 4,
 "nbformat_minor": 5
}
